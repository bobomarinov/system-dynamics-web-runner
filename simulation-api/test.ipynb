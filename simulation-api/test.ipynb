{
 "cells": [
  {
   "cell_type": "code",
   "execution_count": 11,
   "metadata": {
    "collapsed": true
   },
   "outputs": [],
   "source": [
    "import pysd\n",
    "import json\n",
    "import matplotlib.pyplot as plt\n",
    "model = pysd.read_vensim(\"models/Teacup/Teacup.mdl\")"
   ]
  },
  {
   "cell_type": "code",
   "execution_count": 24,
   "outputs": [
    {
     "name": "stderr",
     "output_type": "stream",
     "text": [
      "Time:  0:00:00 [##########################################################]100%\n"
     ]
    }
   ],
   "source": [
    "stocks = model.run(progress=True,return_columns=['Teacup Temperature'],params={'Room Temperature': 40},final_time=50)"
   ],
   "metadata": {
    "collapsed": false
   }
  },
  {
   "cell_type": "code",
   "execution_count": 22,
   "outputs": [
    {
     "data": {
      "text/plain": "             Real Name              Py Name Subscripts           Units  \\\n0  Characteristic Time  characteristic_time       None         Minutes   \n1           FINAL TIME           final_time       None          Minute   \n2    Heat Loss to Room    heat_loss_to_room       None  Degrees/Minute   \n3         INITIAL TIME         initial_time       None          Minute   \n4     Room Temperature     room_temperature       None            None   \n5              SAVEPER              saveper       None          Minute   \n6            TIME STEP            time_step       None          Minute   \n7   Teacup Temperature   teacup_temperature       None         Degrees   \n8                 Time                 time       None            None   \n\n       Limits       Type Subtype  \\\n0  (nan, nan)   Constant  Normal   \n1  (nan, nan)   Constant  Normal   \n2  (nan, nan)  Auxiliary  Normal   \n3  (nan, nan)   Constant  Normal   \n4  (nan, nan)   Constant  Normal   \n5  (0.0, nan)  Auxiliary  Normal   \n6  (0.0, nan)   Constant  Normal   \n7  (nan, nan)   Stateful   Integ   \n8  (nan, nan)       None    None   \n\n                                             Comment  \n0                                               None  \n1                 The final time for the simulation.  \n2  This is the rate at which heat flows from the ...  \n3               The initial time for the simulation.  \n4                                               None  \n5         The frequency with which output is stored.  \n6                  The time step for the simulation.  \n7                                               None  \n8                         Current time of the model.  ",
      "text/html": "<div>\n<style scoped>\n    .dataframe tbody tr th:only-of-type {\n        vertical-align: middle;\n    }\n\n    .dataframe tbody tr th {\n        vertical-align: top;\n    }\n\n    .dataframe thead th {\n        text-align: right;\n    }\n</style>\n<table border=\"1\" class=\"dataframe\">\n  <thead>\n    <tr style=\"text-align: right;\">\n      <th></th>\n      <th>Real Name</th>\n      <th>Py Name</th>\n      <th>Subscripts</th>\n      <th>Units</th>\n      <th>Limits</th>\n      <th>Type</th>\n      <th>Subtype</th>\n      <th>Comment</th>\n    </tr>\n  </thead>\n  <tbody>\n    <tr>\n      <th>0</th>\n      <td>Characteristic Time</td>\n      <td>characteristic_time</td>\n      <td>None</td>\n      <td>Minutes</td>\n      <td>(nan, nan)</td>\n      <td>Constant</td>\n      <td>Normal</td>\n      <td>None</td>\n    </tr>\n    <tr>\n      <th>1</th>\n      <td>FINAL TIME</td>\n      <td>final_time</td>\n      <td>None</td>\n      <td>Minute</td>\n      <td>(nan, nan)</td>\n      <td>Constant</td>\n      <td>Normal</td>\n      <td>The final time for the simulation.</td>\n    </tr>\n    <tr>\n      <th>2</th>\n      <td>Heat Loss to Room</td>\n      <td>heat_loss_to_room</td>\n      <td>None</td>\n      <td>Degrees/Minute</td>\n      <td>(nan, nan)</td>\n      <td>Auxiliary</td>\n      <td>Normal</td>\n      <td>This is the rate at which heat flows from the ...</td>\n    </tr>\n    <tr>\n      <th>3</th>\n      <td>INITIAL TIME</td>\n      <td>initial_time</td>\n      <td>None</td>\n      <td>Minute</td>\n      <td>(nan, nan)</td>\n      <td>Constant</td>\n      <td>Normal</td>\n      <td>The initial time for the simulation.</td>\n    </tr>\n    <tr>\n      <th>4</th>\n      <td>Room Temperature</td>\n      <td>room_temperature</td>\n      <td>None</td>\n      <td>None</td>\n      <td>(nan, nan)</td>\n      <td>Constant</td>\n      <td>Normal</td>\n      <td>None</td>\n    </tr>\n    <tr>\n      <th>5</th>\n      <td>SAVEPER</td>\n      <td>saveper</td>\n      <td>None</td>\n      <td>Minute</td>\n      <td>(0.0, nan)</td>\n      <td>Auxiliary</td>\n      <td>Normal</td>\n      <td>The frequency with which output is stored.</td>\n    </tr>\n    <tr>\n      <th>6</th>\n      <td>TIME STEP</td>\n      <td>time_step</td>\n      <td>None</td>\n      <td>Minute</td>\n      <td>(0.0, nan)</td>\n      <td>Constant</td>\n      <td>Normal</td>\n      <td>The time step for the simulation.</td>\n    </tr>\n    <tr>\n      <th>7</th>\n      <td>Teacup Temperature</td>\n      <td>teacup_temperature</td>\n      <td>None</td>\n      <td>Degrees</td>\n      <td>(nan, nan)</td>\n      <td>Stateful</td>\n      <td>Integ</td>\n      <td>None</td>\n    </tr>\n    <tr>\n      <th>8</th>\n      <td>Time</td>\n      <td>time</td>\n      <td>None</td>\n      <td>None</td>\n      <td>(nan, nan)</td>\n      <td>None</td>\n      <td>None</td>\n      <td>Current time of the model.</td>\n    </tr>\n  </tbody>\n</table>\n</div>"
     },
     "execution_count": 22,
     "metadata": {},
     "output_type": "execute_result"
    }
   ],
   "source": [
    "model.doc"
   ],
   "metadata": {
    "collapsed": false
   }
  },
  {
   "cell_type": "code",
   "execution_count": 25,
   "outputs": [
    {
     "data": {
      "text/plain": "        Teacup Temperature\n0.000           180.000000\n0.125           178.250000\n0.250           176.521875\n0.375           174.815352\n0.500           173.130160\n...                    ...\n49.500           40.961217\n49.625           40.949202\n49.750           40.937337\n49.875           40.925620\n50.000           40.914050\n\n[401 rows x 1 columns]",
      "text/html": "<div>\n<style scoped>\n    .dataframe tbody tr th:only-of-type {\n        vertical-align: middle;\n    }\n\n    .dataframe tbody tr th {\n        vertical-align: top;\n    }\n\n    .dataframe thead th {\n        text-align: right;\n    }\n</style>\n<table border=\"1\" class=\"dataframe\">\n  <thead>\n    <tr style=\"text-align: right;\">\n      <th></th>\n      <th>Teacup Temperature</th>\n    </tr>\n  </thead>\n  <tbody>\n    <tr>\n      <th>0.000</th>\n      <td>180.000000</td>\n    </tr>\n    <tr>\n      <th>0.125</th>\n      <td>178.250000</td>\n    </tr>\n    <tr>\n      <th>0.250</th>\n      <td>176.521875</td>\n    </tr>\n    <tr>\n      <th>0.375</th>\n      <td>174.815352</td>\n    </tr>\n    <tr>\n      <th>0.500</th>\n      <td>173.130160</td>\n    </tr>\n    <tr>\n      <th>...</th>\n      <td>...</td>\n    </tr>\n    <tr>\n      <th>49.500</th>\n      <td>40.961217</td>\n    </tr>\n    <tr>\n      <th>49.625</th>\n      <td>40.949202</td>\n    </tr>\n    <tr>\n      <th>49.750</th>\n      <td>40.937337</td>\n    </tr>\n    <tr>\n      <th>49.875</th>\n      <td>40.925620</td>\n    </tr>\n    <tr>\n      <th>50.000</th>\n      <td>40.914050</td>\n    </tr>\n  </tbody>\n</table>\n<p>401 rows × 1 columns</p>\n</div>"
     },
     "execution_count": 25,
     "metadata": {},
     "output_type": "execute_result"
    }
   ],
   "source": [
    "stocks"
   ],
   "metadata": {
    "collapsed": false
   }
  },
  {
   "cell_type": "code",
   "execution_count": null,
   "outputs": [],
   "source": [],
   "metadata": {
    "collapsed": false
   }
  }
 ],
 "metadata": {
  "kernelspec": {
   "display_name": "Python 3",
   "language": "python",
   "name": "python3"
  },
  "language_info": {
   "codemirror_mode": {
    "name": "ipython",
    "version": 2
   },
   "file_extension": ".py",
   "mimetype": "text/x-python",
   "name": "python",
   "nbconvert_exporter": "python",
   "pygments_lexer": "ipython2",
   "version": "2.7.6"
  }
 },
 "nbformat": 4,
 "nbformat_minor": 0
}
